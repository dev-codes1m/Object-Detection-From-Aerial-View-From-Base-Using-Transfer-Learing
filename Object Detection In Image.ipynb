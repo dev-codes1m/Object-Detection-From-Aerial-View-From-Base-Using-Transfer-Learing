{
 "cells": [
  {
   "cell_type": "code",
   "execution_count": 1,
   "id": "001c5788",
   "metadata": {},
   "outputs": [],
   "source": [
    "from tensorflow.keras.models import load_model\n",
    "import cv2\n",
    "import numpy as np\n",
    "import os\n",
    "os. environ[\"CUDA_VISIBLE_DEVICES\"] = \"-1\""
   ]
  },
  {
   "cell_type": "code",
   "execution_count": 2,
   "id": "c313640b",
   "metadata": {},
   "outputs": [],
   "source": [
    "model = load_model('ODFAV.h5') # loading the Model"
   ]
  },
  {
   "cell_type": "code",
   "execution_count": 3,
   "id": "8d2ba61e",
   "metadata": {},
   "outputs": [],
   "source": [
    "img = r'D:/Dwarf AI/image.jpg'"
   ]
  },
  {
   "cell_type": "code",
   "execution_count": 4,
   "id": "79b6cdfc",
   "metadata": {},
   "outputs": [
    {
     "data": {
      "text/plain": [
       "18"
      ]
     },
     "execution_count": 4,
     "metadata": {},
     "output_type": "execute_result"
    }
   ],
   "source": [
    "import cv2\n",
    "from keras.preprocessing import image\n",
    "from  keras.preprocessing.image import img_to_array\n",
    "from PIL import Image as im\n",
    "# Load image, grayscale, Gaussian blur, Otsu's threshold, dilate\n",
    "images = cv2.imread(img)\n",
    "original = images.copy()\n",
    "gray = cv2.cvtColor(images,cv2.COLOR_BGR2GRAY)\n",
    "blur = cv2.GaussianBlur(gray, (5,5), 0)\n",
    "thresh = cv2.threshold(blur, 0, 255, cv2.THRESH_BINARY_INV + cv2.THRESH_OTSU)[1]\n",
    "kernel = cv2.getStructuringElement(cv2.MORPH_RECT, (7,7))\n",
    "dilate = cv2.dilate(thresh, kernel, iterations=1)\n",
    "\n",
    "# Find contours, obtain bounding box coordinates, and extract ROI\n",
    "cnts = cv2.findContours(dilate, cv2.RETR_EXTERNAL, cv2.CHAIN_APPROX_SIMPLE)\n",
    "cnts = cnts[0] if len(cnts) == 2 else cnts[1]\n",
    "image_number = 0\n",
    "for c in cnts:\n",
    "    x,y,w,h = cv2.boundingRect(c)\n",
    "   \n",
    "    ROI = original[y:y+h, x:x+w]\n",
    "#     ROI = np.arange(0, 737280, 1, np.uint8)\n",
    "    i1 = im.fromarray(ROI)\n",
    "    i1 = i1.resize((224,224))\n",
    "    i1 = image.img_to_array(i1)\n",
    "    i1 = np.expand_dims(i1,axis=0)\n",
    "    i1 = i1/255.0\n",
    "    k = model.predict(i1)\n",
    "    if k[0][0]==np.max(k):\n",
    "        cv2.putText(images,'CAR',(x+w,y+h),cv2.FONT_HERSHEY_COMPLEX,0.75,(0,255,0),1)\n",
    "        cv2.rectangle(images, (x, y), (x + w, y + h), (0,255,0), 2)\n",
    "    elif k[0][2]==np.max(k):\n",
    "        cv2.putText(images,'People',(x+w,y+h),cv2.FONT_HERSHEY_COMPLEX,0.75,(255,255,0),1)\n",
    "        cv2.rectangle(images, (x, y), (x + w, y + h), (255,255,0), 2)\n",
    "    elif k[0][3]==np.max(k):\n",
    "        cv2.putText(images,'Trash',(x+w,y+h),cv2.FONT_HERSHEY_COMPLEX,0.5,(0,0,255),1)\n",
    "        cv2.rectangle(images, (x, y), (x + w, y + h), (0,0,255), 2)\n",
    "        \n",
    "\n",
    "#     cv2.imwrite(\"ROI_{}.png\".format(image_number), ROI)\n",
    "#     print(ROI)\n",
    "    \n",
    "    image_number += 1\n",
    "\n",
    "cv2.imshow('image', images)\n",
    "cv2.imwrite('Sample_result.jpg',images)\n",
    "# cv2.imshow('thresh', thresh)\n",
    "# cv2.imshow('dilate', dilate)\n",
    "cv2.waitKey()"
   ]
  },
  {
   "cell_type": "code",
   "execution_count": null,
   "id": "6788ebc7",
   "metadata": {},
   "outputs": [],
   "source": []
  }
 ],
 "metadata": {
  "kernelspec": {
   "display_name": "Python 3 (ipykernel)",
   "language": "python",
   "name": "python3"
  },
  "language_info": {
   "codemirror_mode": {
    "name": "ipython",
    "version": 3
   },
   "file_extension": ".py",
   "mimetype": "text/x-python",
   "name": "python",
   "nbconvert_exporter": "python",
   "pygments_lexer": "ipython3",
   "version": "3.9.7"
  }
 },
 "nbformat": 4,
 "nbformat_minor": 5
}
